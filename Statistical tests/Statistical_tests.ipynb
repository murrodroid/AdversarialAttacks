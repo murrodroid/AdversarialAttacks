{
 "cells": [
  {
   "cell_type": "code",
   "execution_count": null,
   "id": "22f23dd2",
   "metadata": {},
   "outputs": [],
   "source": [
    "#General Packages\n",
    "import pandas as pd\n",
    "import torch\n",
    "import torch.nn.functional as F\n",
    "import ast\n",
    "import scipy.stats as stats\n",
    "\n",
    "\n",
    "#Statistical tests\n",
    "import statsmodels.formula.api as smf\n",
    "from statsmodels.stats.multicomp import pairwise_tukeyhsd\n",
    "\n",
    "#Plot\n",
    "import seaborn as sns\n",
    "import matplotlib.pyplot as plt"
   ]
  },
  {
   "cell_type": "code",
   "execution_count": 76,
   "id": "ef026199",
   "metadata": {},
   "outputs": [
    {
     "data": {
      "text/html": [
       "<div>\n",
       "<style scoped>\n",
       "    .dataframe tbody tr th:only-of-type {\n",
       "        vertical-align: middle;\n",
       "    }\n",
       "\n",
       "    .dataframe tbody tr th {\n",
       "        vertical-align: top;\n",
       "    }\n",
       "\n",
       "    .dataframe thead th {\n",
       "        text-align: right;\n",
       "    }\n",
       "</style>\n",
       "<table border=\"1\" class=\"dataframe\">\n",
       "  <thead>\n",
       "    <tr style=\"text-align: right;\">\n",
       "      <th></th>\n",
       "      <th>model</th>\n",
       "      <th>attack</th>\n",
       "      <th>true_class</th>\n",
       "      <th>target_class</th>\n",
       "      <th>original_pred_class</th>\n",
       "      <th>adversarial_pred_class</th>\n",
       "      <th>first_success_iter</th>\n",
       "      <th>attack_successful</th>\n",
       "      <th>psnr_score</th>\n",
       "      <th>ssim_score</th>\n",
       "      <th>ergas_score</th>\n",
       "      <th>adversarial_image_path</th>\n",
       "      <th>original_probs</th>\n",
       "      <th>adversarial_probs</th>\n",
       "      <th>dataset_index</th>\n",
       "    </tr>\n",
       "  </thead>\n",
       "  <tbody>\n",
       "    <tr>\n",
       "      <th>0</th>\n",
       "      <td>cifar10_resnet20</td>\n",
       "      <td>fgsm</td>\n",
       "      <td>0</td>\n",
       "      <td>1</td>\n",
       "      <td>0</td>\n",
       "      <td>1</td>\n",
       "      <td>2.0</td>\n",
       "      <td>True</td>\n",
       "      <td>65.954201</td>\n",
       "      <td>0.999694</td>\n",
       "      <td>2.116059e+01</td>\n",
       "      <td>results/adversarial_images/adv_fgsm_src0_tgt1_...</td>\n",
       "      <td>[0.5657652616500854, 0.00042795829358510673, 0...</td>\n",
       "      <td>[1.6045102746442552e-11, 1.0, 1.51032519823957...</td>\n",
       "      <td>3</td>\n",
       "    </tr>\n",
       "    <tr>\n",
       "      <th>1</th>\n",
       "      <td>cifar10_resnet20</td>\n",
       "      <td>fgsm</td>\n",
       "      <td>0</td>\n",
       "      <td>2</td>\n",
       "      <td>0</td>\n",
       "      <td>2</td>\n",
       "      <td>1.0</td>\n",
       "      <td>True</td>\n",
       "      <td>66.643494</td>\n",
       "      <td>0.999728</td>\n",
       "      <td>1.939236e+01</td>\n",
       "      <td>results/adversarial_images/adv_fgsm_src0_tgt2_...</td>\n",
       "      <td>[0.5657652616500854, 0.00042795829358510673, 0...</td>\n",
       "      <td>[1.8208290506870756e-13, 1.872570803659098e-14...</td>\n",
       "      <td>3</td>\n",
       "    </tr>\n",
       "    <tr>\n",
       "      <th>2</th>\n",
       "      <td>cifar10_resnet20</td>\n",
       "      <td>fgsm</td>\n",
       "      <td>0</td>\n",
       "      <td>3</td>\n",
       "      <td>0</td>\n",
       "      <td>3</td>\n",
       "      <td>2.0</td>\n",
       "      <td>True</td>\n",
       "      <td>66.778648</td>\n",
       "      <td>0.999747</td>\n",
       "      <td>1.936389e+01</td>\n",
       "      <td>results/adversarial_images/adv_fgsm_src0_tgt3_...</td>\n",
       "      <td>[0.5657652616500854, 0.00042795829358510673, 0...</td>\n",
       "      <td>[1.1564458243150605e-15, 7.034808526722516e-15...</td>\n",
       "      <td>3</td>\n",
       "    </tr>\n",
       "    <tr>\n",
       "      <th>3</th>\n",
       "      <td>cifar10_resnet20</td>\n",
       "      <td>fgsm</td>\n",
       "      <td>0</td>\n",
       "      <td>4</td>\n",
       "      <td>0</td>\n",
       "      <td>4</td>\n",
       "      <td>4.0</td>\n",
       "      <td>True</td>\n",
       "      <td>65.881126</td>\n",
       "      <td>0.999691</td>\n",
       "      <td>2.135495e+01</td>\n",
       "      <td>results/adversarial_images/adv_fgsm_src0_tgt4_...</td>\n",
       "      <td>[0.5657652616500854, 0.00042795829358510673, 0...</td>\n",
       "      <td>[5.68821899304961e-12, 4.9450651906646215e-12,...</td>\n",
       "      <td>3</td>\n",
       "    </tr>\n",
       "    <tr>\n",
       "      <th>4</th>\n",
       "      <td>cifar10_resnet20</td>\n",
       "      <td>fgsm</td>\n",
       "      <td>0</td>\n",
       "      <td>5</td>\n",
       "      <td>0</td>\n",
       "      <td>5</td>\n",
       "      <td>4.0</td>\n",
       "      <td>True</td>\n",
       "      <td>66.494148</td>\n",
       "      <td>0.999710</td>\n",
       "      <td>1.975791e+01</td>\n",
       "      <td>results/adversarial_images/adv_fgsm_src0_tgt5_...</td>\n",
       "      <td>[0.5657652616500854, 0.00042795829358510673, 0...</td>\n",
       "      <td>[6.877660663207052e-10, 3.936369841195386e-10,...</td>\n",
       "      <td>3</td>\n",
       "    </tr>\n",
       "    <tr>\n",
       "      <th>...</th>\n",
       "      <td>...</td>\n",
       "      <td>...</td>\n",
       "      <td>...</td>\n",
       "      <td>...</td>\n",
       "      <td>...</td>\n",
       "      <td>...</td>\n",
       "      <td>...</td>\n",
       "      <td>...</td>\n",
       "      <td>...</td>\n",
       "      <td>...</td>\n",
       "      <td>...</td>\n",
       "      <td>...</td>\n",
       "      <td>...</td>\n",
       "      <td>...</td>\n",
       "      <td>...</td>\n",
       "    </tr>\n",
       "    <tr>\n",
       "      <th>1345</th>\n",
       "      <td>cifar10_resnet20</td>\n",
       "      <td>cw</td>\n",
       "      <td>9</td>\n",
       "      <td>4</td>\n",
       "      <td>9</td>\n",
       "      <td>9</td>\n",
       "      <td>5.0</td>\n",
       "      <td>True</td>\n",
       "      <td>72.964874</td>\n",
       "      <td>0.999943</td>\n",
       "      <td>5.731870e+06</td>\n",
       "      <td>results/adversarial_images/adv_cw_src9_tgt4_id...</td>\n",
       "      <td>[1.1389509779746732e-08, 1.754766465467128e-08...</td>\n",
       "      <td>[4.0848854609976115e-07, 2.5163251393678365e-0...</td>\n",
       "      <td>34</td>\n",
       "    </tr>\n",
       "    <tr>\n",
       "      <th>1346</th>\n",
       "      <td>cifar10_resnet20</td>\n",
       "      <td>cw</td>\n",
       "      <td>9</td>\n",
       "      <td>5</td>\n",
       "      <td>9</td>\n",
       "      <td>9</td>\n",
       "      <td>1.0</td>\n",
       "      <td>True</td>\n",
       "      <td>80.456924</td>\n",
       "      <td>0.999990</td>\n",
       "      <td>2.419324e+06</td>\n",
       "      <td>results/adversarial_images/adv_cw_src9_tgt5_id...</td>\n",
       "      <td>[1.1389509779746732e-08, 1.754766465467128e-08...</td>\n",
       "      <td>[4.73102179654461e-09, 3.990787256213935e-09, ...</td>\n",
       "      <td>34</td>\n",
       "    </tr>\n",
       "    <tr>\n",
       "      <th>1347</th>\n",
       "      <td>cifar10_resnet20</td>\n",
       "      <td>cw</td>\n",
       "      <td>9</td>\n",
       "      <td>6</td>\n",
       "      <td>9</td>\n",
       "      <td>9</td>\n",
       "      <td>3.0</td>\n",
       "      <td>True</td>\n",
       "      <td>77.360107</td>\n",
       "      <td>0.999979</td>\n",
       "      <td>3.455692e+06</td>\n",
       "      <td>results/adversarial_images/adv_cw_src9_tgt6_id...</td>\n",
       "      <td>[1.1389509779746732e-08, 1.754766465467128e-08...</td>\n",
       "      <td>[6.239093863769085e-08, 2.071508120593535e-08,...</td>\n",
       "      <td>34</td>\n",
       "    </tr>\n",
       "    <tr>\n",
       "      <th>1348</th>\n",
       "      <td>cifar10_resnet20</td>\n",
       "      <td>cw</td>\n",
       "      <td>9</td>\n",
       "      <td>7</td>\n",
       "      <td>9</td>\n",
       "      <td>9</td>\n",
       "      <td>6.0</td>\n",
       "      <td>True</td>\n",
       "      <td>74.080467</td>\n",
       "      <td>0.999956</td>\n",
       "      <td>5.041002e+06</td>\n",
       "      <td>results/adversarial_images/adv_cw_src9_tgt7_id...</td>\n",
       "      <td>[1.1389509779746732e-08, 1.754766465467128e-08...</td>\n",
       "      <td>[1.3863801662239439e-08, 1.087225776075229e-08...</td>\n",
       "      <td>34</td>\n",
       "    </tr>\n",
       "    <tr>\n",
       "      <th>1349</th>\n",
       "      <td>cifar10_resnet20</td>\n",
       "      <td>cw</td>\n",
       "      <td>9</td>\n",
       "      <td>8</td>\n",
       "      <td>9</td>\n",
       "      <td>9</td>\n",
       "      <td>2.0</td>\n",
       "      <td>True</td>\n",
       "      <td>79.111740</td>\n",
       "      <td>0.999986</td>\n",
       "      <td>2.824578e+06</td>\n",
       "      <td>results/adversarial_images/adv_cw_src9_tgt8_id...</td>\n",
       "      <td>[1.1389509779746732e-08, 1.754766465467128e-08...</td>\n",
       "      <td>[7.073703756077521e-08, 8.492395409120945e-08,...</td>\n",
       "      <td>34</td>\n",
       "    </tr>\n",
       "  </tbody>\n",
       "</table>\n",
       "<p>1350 rows × 15 columns</p>\n",
       "</div>"
      ],
      "text/plain": [
       "                 model attack  true_class  target_class  original_pred_class  \\\n",
       "0     cifar10_resnet20   fgsm           0             1                    0   \n",
       "1     cifar10_resnet20   fgsm           0             2                    0   \n",
       "2     cifar10_resnet20   fgsm           0             3                    0   \n",
       "3     cifar10_resnet20   fgsm           0             4                    0   \n",
       "4     cifar10_resnet20   fgsm           0             5                    0   \n",
       "...                ...    ...         ...           ...                  ...   \n",
       "1345  cifar10_resnet20     cw           9             4                    9   \n",
       "1346  cifar10_resnet20     cw           9             5                    9   \n",
       "1347  cifar10_resnet20     cw           9             6                    9   \n",
       "1348  cifar10_resnet20     cw           9             7                    9   \n",
       "1349  cifar10_resnet20     cw           9             8                    9   \n",
       "\n",
       "      adversarial_pred_class  first_success_iter  attack_successful  \\\n",
       "0                          1                 2.0               True   \n",
       "1                          2                 1.0               True   \n",
       "2                          3                 2.0               True   \n",
       "3                          4                 4.0               True   \n",
       "4                          5                 4.0               True   \n",
       "...                      ...                 ...                ...   \n",
       "1345                       9                 5.0               True   \n",
       "1346                       9                 1.0               True   \n",
       "1347                       9                 3.0               True   \n",
       "1348                       9                 6.0               True   \n",
       "1349                       9                 2.0               True   \n",
       "\n",
       "      psnr_score  ssim_score   ergas_score  \\\n",
       "0      65.954201    0.999694  2.116059e+01   \n",
       "1      66.643494    0.999728  1.939236e+01   \n",
       "2      66.778648    0.999747  1.936389e+01   \n",
       "3      65.881126    0.999691  2.135495e+01   \n",
       "4      66.494148    0.999710  1.975791e+01   \n",
       "...          ...         ...           ...   \n",
       "1345   72.964874    0.999943  5.731870e+06   \n",
       "1346   80.456924    0.999990  2.419324e+06   \n",
       "1347   77.360107    0.999979  3.455692e+06   \n",
       "1348   74.080467    0.999956  5.041002e+06   \n",
       "1349   79.111740    0.999986  2.824578e+06   \n",
       "\n",
       "                                 adversarial_image_path  \\\n",
       "0     results/adversarial_images/adv_fgsm_src0_tgt1_...   \n",
       "1     results/adversarial_images/adv_fgsm_src0_tgt2_...   \n",
       "2     results/adversarial_images/adv_fgsm_src0_tgt3_...   \n",
       "3     results/adversarial_images/adv_fgsm_src0_tgt4_...   \n",
       "4     results/adversarial_images/adv_fgsm_src0_tgt5_...   \n",
       "...                                                 ...   \n",
       "1345  results/adversarial_images/adv_cw_src9_tgt4_id...   \n",
       "1346  results/adversarial_images/adv_cw_src9_tgt5_id...   \n",
       "1347  results/adversarial_images/adv_cw_src9_tgt6_id...   \n",
       "1348  results/adversarial_images/adv_cw_src9_tgt7_id...   \n",
       "1349  results/adversarial_images/adv_cw_src9_tgt8_id...   \n",
       "\n",
       "                                         original_probs  \\\n",
       "0     [0.5657652616500854, 0.00042795829358510673, 0...   \n",
       "1     [0.5657652616500854, 0.00042795829358510673, 0...   \n",
       "2     [0.5657652616500854, 0.00042795829358510673, 0...   \n",
       "3     [0.5657652616500854, 0.00042795829358510673, 0...   \n",
       "4     [0.5657652616500854, 0.00042795829358510673, 0...   \n",
       "...                                                 ...   \n",
       "1345  [1.1389509779746732e-08, 1.754766465467128e-08...   \n",
       "1346  [1.1389509779746732e-08, 1.754766465467128e-08...   \n",
       "1347  [1.1389509779746732e-08, 1.754766465467128e-08...   \n",
       "1348  [1.1389509779746732e-08, 1.754766465467128e-08...   \n",
       "1349  [1.1389509779746732e-08, 1.754766465467128e-08...   \n",
       "\n",
       "                                      adversarial_probs  dataset_index  \n",
       "0     [1.6045102746442552e-11, 1.0, 1.51032519823957...              3  \n",
       "1     [1.8208290506870756e-13, 1.872570803659098e-14...              3  \n",
       "2     [1.1564458243150605e-15, 7.034808526722516e-15...              3  \n",
       "3     [5.68821899304961e-12, 4.9450651906646215e-12,...              3  \n",
       "4     [6.877660663207052e-10, 3.936369841195386e-10,...              3  \n",
       "...                                                 ...            ...  \n",
       "1345  [4.0848854609976115e-07, 2.5163251393678365e-0...             34  \n",
       "1346  [4.73102179654461e-09, 3.990787256213935e-09, ...             34  \n",
       "1347  [6.239093863769085e-08, 2.071508120593535e-08,...             34  \n",
       "1348  [1.3863801662239439e-08, 1.087225776075229e-08...             34  \n",
       "1349  [7.073703756077521e-08, 8.492395409120945e-08,...             34  \n",
       "\n",
       "[1350 rows x 15 columns]"
      ]
     },
     "execution_count": 76,
     "metadata": {},
     "output_type": "execute_result"
    }
   ],
   "source": [
    "df = pd.read_csv(\"../results/generation_metadata.csv\")\n",
    "df"
   ]
  },
  {
   "cell_type": "code",
   "execution_count": null,
   "id": "f3f5f05e",
   "metadata": {},
   "outputs": [
    {
     "data": {
      "text/plain": [
       "array([ True, False])"
      ]
     },
     "execution_count": 77,
     "metadata": {},
     "output_type": "execute_result"
    }
   ],
   "source": [
    "df[\"attack_successful\"].unique()"
   ]
  },
  {
   "cell_type": "code",
   "execution_count": 52,
   "id": "71970221",
   "metadata": {},
   "outputs": [],
   "source": [
    "df = df.dropna()"
   ]
  },
  {
   "cell_type": "code",
   "execution_count": 53,
   "id": "05cca76f",
   "metadata": {},
   "outputs": [
    {
     "data": {
      "text/plain": [
       "50"
      ]
     },
     "execution_count": 53,
     "metadata": {},
     "output_type": "execute_result"
    }
   ],
   "source": [
    "len(df['dataset_index'].unique())"
   ]
  },
  {
   "cell_type": "code",
   "execution_count": null,
   "id": "4abd2ef6",
   "metadata": {},
   "outputs": [
    {
     "name": "stdout",
     "output_type": "stream",
     "text": [
      "                     Mixed Linear Model Regression Results\n",
      "================================================================================\n",
      "Model:                    MixedLM         Dependent Variable:         psnr_score\n",
      "No. Observations:         1230            Method:                     REML      \n",
      "No. Groups:               50              Scale:                      25.2903   \n",
      "Min. group size:          18              Log-Likelihood:             inf       \n",
      "Max. group size:          27              Converged:                  Yes       \n",
      "Mean group size:          24.6                                                  \n",
      "--------------------------------------------------------------------------------\n",
      "                     Coef.    Std.Err.     z    P>|z|     [0.025       0.975]   \n",
      "--------------------------------------------------------------------------------\n",
      "Intercept             4.278 7857030.283   0.000 1.000 -15399492.102 15399500.658\n",
      "attack[T.fgsm]       -9.755       0.339 -28.790 0.000       -10.419       -9.091\n",
      "attack[T.pgd]         3.165       0.368   8.612 0.000         2.445        3.886\n",
      "C(target_class)[T.1] -1.225       0.666  -1.838 0.066        -2.531        0.081\n",
      "C(target_class)[T.2] -0.520       0.638  -0.815 0.415        -1.770        0.730\n",
      "C(target_class)[T.3]  3.042       0.639   4.764 0.000         1.790        4.293\n",
      "C(target_class)[T.4] -0.444       0.645  -0.687 0.492        -1.708        0.821\n",
      "C(target_class)[T.5]  5.308       0.649   8.176 0.000         4.035        6.580\n",
      "C(target_class)[T.6] -0.063       0.643  -0.098 0.922        -1.324        1.198\n",
      "C(target_class)[T.7] -0.851       0.647  -1.315 0.188        -2.119        0.417\n",
      "C(target_class)[T.8]  0.434       0.646   0.671 0.502        -0.833        1.700\n",
      "C(target_class)[T.9] -0.859       0.643  -1.335 0.182        -2.120        0.402\n",
      "Group Var             0.000                                                     \n",
      "================================================================================\n",
      "\n"
     ]
    },
    {
     "name": "stderr",
     "output_type": "stream",
     "text": [
      "C:\\Users\\celin\\AppData\\Local\\Packages\\PythonSoftwareFoundation.Python.3.11_qbz5n2kfra8p0\\LocalCache\\local-packages\\Python311\\site-packages\\statsmodels\\base\\model.py:607: ConvergenceWarning: Maximum Likelihood optimization failed to converge. Check mle_retvals\n",
      "  warnings.warn(\"Maximum Likelihood optimization failed to \"\n",
      "C:\\Users\\celin\\AppData\\Local\\Packages\\PythonSoftwareFoundation.Python.3.11_qbz5n2kfra8p0\\LocalCache\\local-packages\\Python311\\site-packages\\statsmodels\\regression\\mixed_linear_model.py:2200: ConvergenceWarning: Retrying MixedLM optimization with lbfgs\n",
      "  warnings.warn(\n",
      "C:\\Users\\celin\\AppData\\Local\\Packages\\PythonSoftwareFoundation.Python.3.11_qbz5n2kfra8p0\\LocalCache\\local-packages\\Python311\\site-packages\\statsmodels\\regression\\mixed_linear_model.py:1634: UserWarning: Random effects covariance is singular\n",
      "  warnings.warn(msg)\n",
      "C:\\Users\\celin\\AppData\\Local\\Packages\\PythonSoftwareFoundation.Python.3.11_qbz5n2kfra8p0\\LocalCache\\local-packages\\Python311\\site-packages\\statsmodels\\regression\\mixed_linear_model.py:2054: UserWarning: The random effects covariance matrix is singular.\n",
      "  warnings.warn(_warn_cov_sing)\n",
      "C:\\Users\\celin\\AppData\\Local\\Packages\\PythonSoftwareFoundation.Python.3.11_qbz5n2kfra8p0\\LocalCache\\local-packages\\Python311\\site-packages\\statsmodels\\regression\\mixed_linear_model.py:2237: ConvergenceWarning: The MLE may be on the boundary of the parameter space.\n",
      "  warnings.warn(msg, ConvergenceWarning)\n",
      "C:\\Users\\celin\\AppData\\Local\\Packages\\PythonSoftwareFoundation.Python.3.11_qbz5n2kfra8p0\\LocalCache\\local-packages\\Python311\\site-packages\\statsmodels\\regression\\mixed_linear_model.py:2245: UserWarning: The random effects covariance matrix is singular.\n",
      "  warnings.warn(_warn_cov_sing)\n",
      "C:\\Users\\celin\\AppData\\Local\\Packages\\PythonSoftwareFoundation.Python.3.11_qbz5n2kfra8p0\\LocalCache\\local-packages\\Python311\\site-packages\\statsmodels\\regression\\mixed_linear_model.py:2261: ConvergenceWarning: The Hessian matrix at the estimated parameter values is not positive definite.\n",
      "  warnings.warn(msg, ConvergenceWarning)\n"
     ]
    }
   ],
   "source": [
    "# Define and fit the model\n",
    "model = smf.mixedlm(\"psnr_score ~ attack + C(target_class)\", data=df, groups=df[\"dataset_index\"]).fit()\n",
    "\n",
    "# Print the summary\n",
    "print(model.summary())\n"
   ]
  },
  {
   "cell_type": "markdown",
   "id": "a3786d59",
   "metadata": {},
   "source": [
    "Pairwise post-hoc tests: "
   ]
  },
  {
   "cell_type": "code",
   "execution_count": 60,
   "id": "527b9689",
   "metadata": {},
   "outputs": [
    {
     "name": "stdout",
     "output_type": "stream",
     "text": [
      "Multiple Comparison of Means - Tukey HSD, FWER=0.05 \n",
      "====================================================\n",
      "group1 group2 meandiff p-adj  lower    upper  reject\n",
      "----------------------------------------------------\n",
      "    cw   fgsm  -9.8198   0.0 -10.6825 -8.9572   True\n",
      "    cw    pgd    3.202   0.0   2.2779  4.1261   True\n",
      "  fgsm    pgd  13.0218   0.0   12.105 13.9386   True\n",
      "----------------------------------------------------\n"
     ]
    }
   ],
   "source": [
    "tukey = pairwise_tukeyhsd(endog=df['psnr_score'],\n",
    "                          groups=df['attack'],\n",
    "                          alpha=0.05)\n",
    "\n",
    "print(tukey.summary())"
   ]
  },
  {
   "cell_type": "code",
   "execution_count": 61,
   "id": "205e7ae5",
   "metadata": {},
   "outputs": [
    {
     "name": "stdout",
     "output_type": "stream",
     "text": [
      "\n",
      "Target class: 1\n",
      "Multiple Comparison of Means - Tukey HSD, FWER=0.05\n",
      "===================================================\n",
      "group1 group2 meandiff p-adj  lower   upper  reject\n",
      "---------------------------------------------------\n",
      "    cw   fgsm  -3.8343   0.0 -4.3442 -3.3244   True\n",
      "    cw    pgd   9.3347   0.0  8.7965   9.873   True\n",
      "  fgsm    pgd   13.169   0.0 12.6815 13.6566   True\n",
      "---------------------------------------------------\n",
      "\n",
      "Target class: 2\n",
      "Multiple Comparison of Means - Tukey HSD, FWER=0.05\n",
      "===================================================\n",
      "group1 group2 meandiff p-adj  lower   upper  reject\n",
      "---------------------------------------------------\n",
      "    cw   fgsm  -6.9506   0.0 -7.6146 -6.2866   True\n",
      "    cw    pgd   6.1716   0.0  5.4872   6.856   True\n",
      "  fgsm    pgd  13.1222   0.0 12.4377 13.8066   True\n",
      "---------------------------------------------------\n",
      "\n",
      "Target class: 3\n",
      " Multiple Comparison of Means - Tukey HSD, FWER=0.05  \n",
      "======================================================\n",
      "group1 group2 meandiff p-adj   lower    upper   reject\n",
      "------------------------------------------------------\n",
      "    cw   fgsm -16.7869    0.0 -20.2946 -13.2792   True\n",
      "    cw    pgd  -3.8554 0.0352  -7.4955  -0.2153   True\n",
      "  fgsm    pgd  12.9315    0.0   9.2914  16.5716   True\n",
      "------------------------------------------------------\n",
      "\n",
      "Target class: 4\n",
      "Multiple Comparison of Means - Tukey HSD, FWER=0.05\n",
      "===================================================\n",
      "group1 group2 meandiff p-adj  lower   upper  reject\n",
      "---------------------------------------------------\n",
      "    cw   fgsm  -7.2355   0.0 -8.1797 -6.2913   True\n",
      "    cw    pgd   5.7905   0.0  4.7736  6.8073   True\n",
      "  fgsm    pgd   13.026   0.0  12.014 14.0379   True\n",
      "---------------------------------------------------\n",
      "\n",
      "Target class: 5\n",
      " Multiple Comparison of Means - Tukey HSD, FWER=0.05 \n",
      "=====================================================\n",
      "group1 group2 meandiff p-adj  lower    upper   reject\n",
      "-----------------------------------------------------\n",
      "    cw   fgsm -22.9949   0.0 -27.6305 -18.3593   True\n",
      "    cw    pgd  -9.8773   0.0 -15.0601  -4.6945   True\n",
      "  fgsm    pgd  13.1176   0.0   7.9349  18.3004   True\n",
      "-----------------------------------------------------\n",
      "\n",
      "Target class: 6\n",
      "Multiple Comparison of Means - Tukey HSD, FWER=0.05\n",
      "===================================================\n",
      "group1 group2 meandiff p-adj  lower   upper  reject\n",
      "---------------------------------------------------\n",
      "    cw   fgsm  -8.3408   0.0 -9.1903 -7.4914   True\n",
      "    cw    pgd   4.7581   0.0    3.85  5.6663   True\n",
      "  fgsm    pgd   13.099   0.0 12.1908 14.0071   True\n",
      "---------------------------------------------------\n",
      "\n",
      "Target class: 7\n",
      "Multiple Comparison of Means - Tukey HSD, FWER=0.05\n",
      "===================================================\n",
      "group1 group2 meandiff p-adj  lower   upper  reject\n",
      "---------------------------------------------------\n",
      "    cw   fgsm  -6.1102   0.0  -6.795 -5.4255   True\n",
      "    cw    pgd   6.7617   0.0  6.0106  7.5128   True\n",
      "  fgsm    pgd  12.8719   0.0 12.1208  13.623   True\n",
      "---------------------------------------------------\n",
      "\n",
      "Target class: 8\n",
      " Multiple Comparison of Means - Tukey HSD, FWER=0.05 \n",
      "=====================================================\n",
      "group1 group2 meandiff p-adj   lower    upper  reject\n",
      "-----------------------------------------------------\n",
      "    cw   fgsm  -9.5318    0.0 -11.8236   -7.24   True\n",
      "    cw    pgd    3.518 0.0031   1.0266  6.0094   True\n",
      "  fgsm    pgd  13.0498    0.0  10.5584 15.5412   True\n",
      "-----------------------------------------------------\n",
      "\n",
      "Target class: 9\n",
      "Multiple Comparison of Means - Tukey HSD, FWER=0.05\n",
      "===================================================\n",
      "group1 group2 meandiff p-adj  lower   upper  reject\n",
      "---------------------------------------------------\n",
      "    cw   fgsm    -5.67   0.0 -7.6411  -3.699   True\n",
      "    cw    pgd   7.1911   0.0  5.0839  9.2982   True\n",
      "  fgsm    pgd  12.8611   0.0  10.754 14.9682   True\n",
      "---------------------------------------------------\n",
      "\n",
      "Target class: 0\n",
      "Multiple Comparison of Means - Tukey HSD, FWER=0.05 \n",
      "====================================================\n",
      "group1 group2 meandiff p-adj  lower    upper  reject\n",
      "----------------------------------------------------\n",
      "    cw   fgsm  -8.6284   0.0 -10.3176 -6.9392   True\n",
      "    cw    pgd   4.3438   0.0   2.5074  6.1802   True\n",
      "  fgsm    pgd  12.9722   0.0  11.1358 14.8086   True\n",
      "----------------------------------------------------\n"
     ]
    }
   ],
   "source": [
    "for target in df['target_class'].unique():\n",
    "    print(f\"\\nTarget class: {target}\")\n",
    "    tukey = pairwise_tukeyhsd(endog=df[df['target_class'] == target]['psnr_score'],\n",
    "                              groups=df[df['target_class'] == target]['attack'],\n",
    "                              alpha=0.05)\n",
    "    print(tukey.summary())"
   ]
  },
  {
   "cell_type": "code",
   "execution_count": null,
   "id": "3da7e283",
   "metadata": {},
   "outputs": [
    {
     "data": {
      "image/png": "[encoded data removed]",
      "text/plain": [
       "<Figure size 640x480 with 1 Axes>"
      ]
     },
     "metadata": {},
     "output_type": "display_data"
    }
   ],
   "source": [
    "sns.pointplot(data=df, x='target_class', y='psnr_score', hue='attack', errorbar='sd')\n",
    "plt.title(\"Attack Strength by Target Class (Lower PSNR = Stronger)\")\n",
    "plt.show()"
   ]
  },
  {
   "cell_type": "markdown",
   "id": "ebee70c2",
   "metadata": {},
   "source": [
    "### KL divergence in probability distribution"
   ]
  },
  {
   "cell_type": "code",
   "execution_count": 63,
   "id": "134fd709",
   "metadata": {},
   "outputs": [
    {
     "name": "stderr",
     "output_type": "stream",
     "text": [
      "C:\\Users\\celin\\AppData\\Local\\Temp\\ipykernel_532\\4037593332.py:1: SettingWithCopyWarning: \n",
      "A value is trying to be set on a copy of a slice from a DataFrame.\n",
      "Try using .loc[row_indexer,col_indexer] = value instead\n",
      "\n",
      "See the caveats in the documentation: https://pandas.pydata.org/pandas-docs/stable/user_guide/indexing.html#returning-a-view-versus-a-copy\n",
      "  df[\"original_probs\"] = df[\"original_probs\"].apply(ast.literal_eval)\n",
      "C:\\Users\\celin\\AppData\\Local\\Temp\\ipykernel_532\\4037593332.py:2: SettingWithCopyWarning: \n",
      "A value is trying to be set on a copy of a slice from a DataFrame.\n",
      "Try using .loc[row_indexer,col_indexer] = value instead\n",
      "\n",
      "See the caveats in the documentation: https://pandas.pydata.org/pandas-docs/stable/user_guide/indexing.html#returning-a-view-versus-a-copy\n",
      "  df[\"adversarial_probs\"] = df[\"adversarial_probs\"].apply(ast.literal_eval)\n"
     ]
    }
   ],
   "source": [
    "df[\"original_probs\"] = df[\"original_probs\"].apply(ast.literal_eval)\n",
    "df[\"adversarial_probs\"] = df[\"adversarial_probs\"].apply(ast.literal_eval)"
   ]
  },
  {
   "cell_type": "code",
   "execution_count": 64,
   "id": "d487f159",
   "metadata": {},
   "outputs": [],
   "source": [
    "def kl_divergence(p, q):\n",
    "    # Convert to tensors\n",
    "    p = torch.tensor(p, dtype=torch.float32)\n",
    "    q = torch.tensor(q, dtype=torch.float32)\n",
    "\n",
    "    # Add small epsilon to avoid log(0)\n",
    "    epsilon = 1e-8\n",
    "    p = p + epsilon\n",
    "    q = q + epsilon\n",
    "\n",
    "    return F.kl_div(q.log(), p, reduction=\"sum\").item()  "
   ]
  },
  {
   "cell_type": "code",
   "execution_count": 66,
   "id": "a95dccbc",
   "metadata": {},
   "outputs": [
    {
     "name": "stderr",
     "output_type": "stream",
     "text": [
      "C:\\Users\\celin\\AppData\\Local\\Temp\\ipykernel_532\\3706757358.py:1: SettingWithCopyWarning: \n",
      "A value is trying to be set on a copy of a slice from a DataFrame.\n",
      "Try using .loc[row_indexer,col_indexer] = value instead\n",
      "\n",
      "See the caveats in the documentation: https://pandas.pydata.org/pandas-docs/stable/user_guide/indexing.html#returning-a-view-versus-a-copy\n",
      "  df[\"kl_divergence\"] = df.apply(lambda row: kl_divergence(row[\"original_probs\"], row[\"adversarial_probs\"]), axis=1)\n"
     ]
    }
   ],
   "source": [
    "df[\"kl_divergence\"] = df.apply(lambda row: kl_divergence(row[\"original_probs\"], row[\"adversarial_probs\"]), axis=1)\n"
   ]
  },
  {
   "cell_type": "code",
   "execution_count": 67,
   "id": "f1f2ad68",
   "metadata": {},
   "outputs": [
    {
     "name": "stdout",
     "output_type": "stream",
     "text": [
      "attack\n",
      "cw       0.436833\n",
      "fgsm    17.802873\n",
      "pgd      9.864644\n",
      "Name: kl_divergence, dtype: float64\n"
     ]
    }
   ],
   "source": [
    "print(df.groupby(\"attack\")[\"kl_divergence\"].mean())"
   ]
  },
  {
   "cell_type": "code",
   "execution_count": 68,
   "id": "a1e666f9",
   "metadata": {},
   "outputs": [
    {
     "name": "stdout",
     "output_type": "stream",
     "text": [
      "               kl_divergence  psnr_score\n",
      "kl_divergence       1.000000   -0.472713\n",
      "psnr_score         -0.472713    1.000000\n"
     ]
    }
   ],
   "source": [
    "print(df[[\"kl_divergence\", \"psnr_score\"]].corr())"
   ]
  },
  {
   "cell_type": "code",
   "execution_count": 69,
   "id": "c441fdcf",
   "metadata": {},
   "outputs": [
    {
     "name": "stdout",
     "output_type": "stream",
     "text": [
      "           Mixed Linear Model Regression Results\n",
      "===========================================================\n",
      "Model:            MixedLM Dependent Variable: kl_divergence\n",
      "No. Observations: 1230    Method:             REML         \n",
      "No. Groups:       50      Scale:              11.3649      \n",
      "Min. group size:  18      Log-Likelihood:     -3273.3101   \n",
      "Max. group size:  27      Converged:          Yes          \n",
      "Mean group size:  24.6                                     \n",
      "-----------------------------------------------------------\n",
      "                 Coef.  Std.Err.   z    P>|z| [0.025 0.975]\n",
      "-----------------------------------------------------------\n",
      "Intercept         0.442    0.227  1.950 0.051 -0.002  0.886\n",
      "attack[T.fgsm]   17.361    0.227 76.527 0.000 16.916 17.806\n",
      "attack[T.pgd]     9.268    0.245 37.780 0.000  8.788  9.749\n",
      "Group Var         1.258    0.105                           \n",
      "===========================================================\n",
      "\n"
     ]
    }
   ],
   "source": [
    "model = smf.mixedlm(\"kl_divergence ~ attack\", data=df, groups=df[\"dataset_index\"])\n",
    "result = model.fit()\n",
    "\n",
    "print(result.summary())"
   ]
  },
  {
   "cell_type": "markdown",
   "id": "34591c35",
   "metadata": {},
   "source": [
    "# Succesrate"
   ]
  },
  {
   "cell_type": "code",
   "execution_count": 79,
   "id": "f253e9ef",
   "metadata": {},
   "outputs": [
    {
     "name": "stdout",
     "output_type": "stream",
     "text": [
      "Contingency Table:\n",
      " attack_successful  False  True \n",
      "attack                         \n",
      "cw                    16    434\n",
      "fgsm                   0    450\n",
      "pgd                  104    346\n",
      "\n",
      "Chi-squared Test Results:\n",
      "Chi2 Statistic: 172.0976\n",
      "Degrees of Freedom: 2\n",
      "P-value: 4.2608e-38\n",
      "\n",
      "Expected Frequencies:\n",
      " attack_successful  False  True \n",
      "attack                         \n",
      "cw                  40.0  410.0\n",
      "fgsm                40.0  410.0\n",
      "pgd                 40.0  410.0\n"
     ]
    }
   ],
   "source": [
    "# Create contingency table: rows = attack type, columns = success (True/False)\n",
    "contingency = pd.crosstab(df['attack'], df['attack_successful'])\n",
    "\n",
    "print(\"Contingency Table:\\n\", contingency)\n",
    "\n",
    "# Chi-squared test\n",
    "chi2, p, dof, expected = stats.chi2_contingency(contingency)\n",
    "\n",
    "print(\"\\nChi-squared Test Results:\")\n",
    "print(f\"Chi2 Statistic: {chi2:.4f}\")\n",
    "print(f\"Degrees of Freedom: {dof}\")\n",
    "print(f\"P-value: {p:.4e}\")\n",
    "print(\"\\nExpected Frequencies:\\n\", pd.DataFrame(expected, index=contingency.index, columns=contingency.columns))\n"
   ]
  }
 ],
 "metadata": {
  "kernelspec": {
   "display_name": "Python 3",
   "language": "python",
   "name": "python3"
  },
  "language_info": {
   "codemirror_mode": {
    "name": "ipython",
    "version": 3
   },
   "file_extension": ".py",
   "mimetype": "text/x-python",
   "name": "python",
   "nbconvert_exporter": "python",
   "pygments_lexer": "ipython3",
   "version": "3.11.9"
  }
 },
 "nbformat": 4,
 "nbformat_minor": 5
}
