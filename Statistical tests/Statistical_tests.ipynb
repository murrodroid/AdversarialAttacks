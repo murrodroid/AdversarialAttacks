{
 "cells": [
  {
   "cell_type": "code",
   "execution_count": null,
   "id": "22f23dd2",
   "metadata": {},
   "outputs": [],
   "source": [
    "#Packages\n",
    "import pingouin as pg\n",
    "from scipy.stats import shapiro\n",
    "import pandas as pd"
   ]
  },
  {
   "cell_type": "code",
   "execution_count": null,
   "id": "db9630c4",
   "metadata": {},
   "outputs": [],
   "source": [
    "def check_sphericity(df: pd.DataFrame) -> None:\n",
    "    \"\"\"Performs Mauchly’s test of sphericity on different within-subject factors.\"\"\"\n",
    "    print(\"\\nSphericity test for attack_type:\")\n",
    "    print(pg.sphericity(df, dv='image_quality', subject='image_id', within=['attack_type']))\n",
    "    \n",
    "    print(\"\\nSphericity test for target_label:\")\n",
    "    print(pg.sphericity(df, dv='image_quality', subject='image_id', within=['target_label']))\n",
    "    \n",
    "    print(\"\\nSphericity test for interaction (attack_type × target_label):\")\n",
    "    print(pg.sphericity(df, dv='image_quality', subject='image_id', within=['attack_type', 'target_label']))"
   ]
  },
  {
   "cell_type": "code",
   "execution_count": null,
   "id": "fc3c200f",
   "metadata": {},
   "outputs": [],
   "source": [
    "def compute_residuals(df: pd.DataFrame) -> pd.Series:\n",
    "    \"\"\"Computes group mean and residuals for normality check.\"\"\"\n",
    "    df['group_mean'] = df.groupby(['image_id', 'attack_type', 'target_label'])['image_quality'].transform('mean')\n",
    "    df['residual'] = df['image_quality'] - df['group_mean']\n",
    "    return df['residual']"
   ]
  },
  {
   "cell_type": "code",
   "execution_count": null,
   "id": "74c120c3",
   "metadata": {},
   "outputs": [],
   "source": [
    "def check_normality(residuals: pd.Series) -> None:\n",
    "    \"\"\"Performs Shapiro–Wilk test for normality of residuals.\"\"\"\n",
    "    stat, p = shapiro(residuals)\n",
    "    print(f\"\\nShapiro-Wilk test for residuals: W={stat:.4f}, p={p:.4f}\")\n",
    "    if p > 0.05:\n",
    "        print(\"Residuals appear normally distributed.\")\n",
    "    else:\n",
    "        print(\"Residuals may not be normally distributed.\")"
   ]
  }
 ],
 "metadata": {
  "kernelspec": {
   "display_name": "Python 3",
   "language": "python",
   "name": "python3"
  },
  "language_info": {
   "name": "python",
   "version": "3.11.9"
  }
 },
 "nbformat": 4,
 "nbformat_minor": 5
}
